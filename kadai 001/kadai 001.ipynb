{
  "nbformat": 4,
  "nbformat_minor": 0,
  "metadata": {
    "colab": {
      "provenance": []
    },
    "kernelspec": {
      "name": "python3",
      "display_name": "Python 3"
    },
    "language_info": {
      "name": "python"
    }
  },
  "cells": [
    {
      "cell_type": "code",
      "execution_count": null,
      "metadata": {
        "colab": {
          "base_uri": "https://localhost:8080/"
        },
        "id": "4yTT0UTKV3hE",
        "outputId": "82a8d30c-1ffe-4ef6-8445-6d526cc0127a"
      },
      "outputs": [
        {
          "output_type": "stream",
          "name": "stdout",
          "text": [
            "請求書_20250803.xlsx を作成しました。\n"
          ]
        }
      ],
      "source": [
        "import openpyxl\n",
        "from openpyxl.styles import Font, Alignment, Border, Side\n",
        "from datetime import datetime\n",
        "\n",
        "# 今日の日付を取得\n",
        "today = datetime.now()\n",
        "date_str = today.strftime(\"%Y/%m/%d\")\n",
        "file_date_str = today.strftime(\"%Y%m%d\")\n",
        "\n",
        "# ワークブック作成\n",
        "wb = openpyxl.Workbook()\n",
        "ws = wb.active\n",
        "ws.title = \"請求書\"\n",
        "\n",
        "# スタイル定義\n",
        "bold = Font(bold=True)\n",
        "center = Alignment(horizontal=\"center\", vertical=\"center\")\n",
        "right = Alignment(horizontal=\"right\")\n",
        "left = Alignment(horizontal=\"left\")\n",
        "border = Border(\n",
        "    left=Side(style=\"thin\"),\n",
        "    right=Side(style=\"thin\"),\n",
        "    top=Side(style=\"thin\"),\n",
        "    bottom=Side(style=\"thin\")\n",
        ")\n",
        "\n",
        "# 各セルの内容を設定\n",
        "ws['B2'] = \"請求書\"\n",
        "ws['B2'].font = Font(size=16, bold=True)\n",
        "\n",
        "ws['B4'] = \"株式会社ABC\"\n",
        "ws['B5'] = \"〒101-0022 東京都千代田区神田練塀町300\"\n",
        "ws['B6'] = \"TEL:03−1234−5678 FAX:03−1234−5678\"\n",
        "ws['B7'] = \"担当者名:鈴木一郎 様\"\n",
        "\n",
        "ws['F4'] = \"No.\"\n",
        "ws['G4'] = \"0001\"\n",
        "ws['F5'] = \"日付\"\n",
        "ws['G5'] = date_str\n",
        "\n",
        "# ヘッダー行\n",
        "headers = [\"商品名\", \"数量\", \"単価\", \"金額\"]\n",
        "for col, text in enumerate(headers, start=2):  # B列=2, C列=3...\n",
        "    cell = ws.cell(row=10, column=col, value=text)\n",
        "    cell.font = bold\n",
        "    cell.alignment = center\n",
        "    cell.border = border\n",
        "\n",
        "# 明細行\n",
        "items = [\n",
        "    [\"商品A\", 2, 10000, 2 * 10000],\n",
        "    [\"商品B\", 1, 15000, 1 * 15000],\n",
        "]\n",
        "\n",
        "start_row = 11\n",
        "for i, item in enumerate(items):\n",
        "    for j, val in enumerate(item, start=2):\n",
        "        cell = ws.cell(row=start_row + i, column=j, value=val)\n",
        "        cell.alignment = center\n",
        "        cell.border = border\n",
        "\n",
        "# 小計・消費税・合計\n",
        "subtotal = sum(item[3] for item in items)\n",
        "tax = int(subtotal * 0.1)\n",
        "total = subtotal + tax\n",
        "\n",
        "ws['B15'] = \"小計\"\n",
        "ws['E15'] = subtotal\n",
        "ws['B16'] = \"消費税\"\n",
        "ws['E16'] = tax\n",
        "ws['B17'] = \"合計\"\n",
        "ws['E17'] = total\n",
        "\n",
        "for row in range(15, 18):\n",
        "    ws[f'B{row}'].font = bold\n",
        "    ws[f'B{row}'].alignment = left\n",
        "    ws[f'E{row}'].alignment = right\n",
        "    ws[f'E{row}'].border = border\n",
        "\n",
        "# 列幅調整\n",
        "ws.column_dimensions['B'].width = 15\n",
        "ws.column_dimensions['C'].width = 10\n",
        "ws.column_dimensions['D'].width = 10\n",
        "ws.column_dimensions['E'].width = 15\n",
        "ws.column_dimensions['F'].width = 10\n",
        "ws.column_dimensions['G'].width = 15\n",
        "\n",
        "# ファイル保存\n",
        "filename = f\"請求書_{file_date_str}.xlsx\"\n",
        "wb.save(filename)\n",
        "print(f\"{filename} を作成しました。\")"
      ]
    }
  ]
}
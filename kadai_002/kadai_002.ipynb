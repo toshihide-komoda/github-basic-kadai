{
  "nbformat": 4,
  "nbformat_minor": 0,
  "metadata": {
    "colab": {
      "provenance": []
    },
    "kernelspec": {
      "name": "python3",
      "display_name": "Python 3"
    },
    "language_info": {
      "name": "python"
    }
  },
  "cells": [
    {
      "cell_type": "code",
      "source": [
        "import pandas as pd\n",
        "\n",
        "# データフレームの作成\n",
        "df = pd.DataFrame({\n",
        "    '日付': ['2023-05-17', '2023-05-18', '2023-05-19', '2023-05-20', '2023-05-21'],\n",
        "    '社員名': ['山田', '佐藤', '鈴木', '田中', '高橋'],\n",
        "    '売上': ['100', '200', '150', '300', '250'],\n",
        "    '部門': ['メーカー', '代理店', 'メーカー', '商社', '代理店']\n",
        "})\n",
        "\n",
        "# 売上を数値型に変換\n",
        "df['売上'] = pd.to_numeric(df['売上'])\n",
        "\n",
        "# 平均売上を計算\n",
        "avg_sales = df['売上'].mean()\n",
        "\n",
        "# E列に平均売上を追加（全行共通）\n",
        "df['平均売上'] = avg_sales\n",
        "\n",
        "# 業績判定関数\n",
        "def performance(sales):\n",
        "    if sales >= avg_sales + 50:\n",
        "        return 'A'\n",
        "    elif sales >= avg_sales:\n",
        "        return 'B'\n",
        "    else:\n",
        "        return 'C'\n",
        "\n",
        "# 業績ランク列を追加\n",
        "df['業績ランク'] = df['売上'].apply(performance)\n",
        "\n",
        "# Excelファイルに書き出す\n",
        "with pd.ExcelWriter('業績.xlsx') as writer:\n",
        "    df.to_excel(writer, sheet_name='Sheet1', index=False)\n"
      ],
      "metadata": {
        "id": "We6I22PE58jW"
      },
      "execution_count": null,
      "outputs": []
    }
  ]
}
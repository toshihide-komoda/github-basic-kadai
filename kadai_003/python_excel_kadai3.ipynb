{
  "nbformat": 4,
  "nbformat_minor": 0,
  "metadata": {
    "colab": {
      "provenance": []
    },
    "kernelspec": {
      "name": "python3",
      "display_name": "Python 3"
    },
    "language_info": {
      "name": "python"
    }
  },
  "cells": [
    {
      "cell_type": "code",
      "source": [
        "import pandas as pd\n",
        "\n",
        "\n",
        "# 処理対象のファイル名のリストを格納\n",
        "file_list = ['/2022_年間売上表.xlsx', '/2023_年間売上表.xlsx']\n",
        "\n",
        "# 結合後のデータを格納するための空のデータフレームを作成\n",
        "df = pd.DataFrame()\n",
        "\n",
        "# ファイルを一つずつ処理する\n",
        "for file_name in file_list:\n",
        "\n",
        "    # Excelファイルを読み込む\n",
        "    temp_df = pd.read_excel(file_name)\n",
        "\n",
        "\n",
        "    # データフレームの列名を指定\n",
        "    temp_df.columns = ['売上年', '商品', '金額（千円）']\n",
        "\n",
        "\n",
        "    # concat()でデータフレームを連結\n",
        "    df = pd.concat([df, temp_df], ignore_index=True)\n",
        "\n",
        "\n",
        "print(df)\n",
        "\n",
        "# 商品ごとに売上金額と売上コストを合計\n",
        "grouped = df.groupby(['商品','売上年']).agg({'金額（千円）': 'sum'})\n",
        "\n",
        "print(grouped)\n",
        "grouped = grouped.reset_index()\n",
        "\n",
        "import pandas as pd\n",
        "from openpyxl import load_workbook\n",
        "from openpyxl.styles import PatternFill\n",
        "\n",
        "grouped = (\n",
        "    grouped\n",
        "    .groupby(['商品', '売上年'])['金額（千円）']\n",
        "    .sum()\n",
        "    .reset_index()\n",
        ")\n",
        "\n",
        "\n",
        "out = '売上集計表.xlsx'\n",
        "\n",
        "# 書き出し\n",
        "with pd.ExcelWriter(out, engine='openpyxl') as writer:\n",
        "    grouped.to_excel(writer, sheet_name='売上集計表', index=False)\n",
        "\n",
        "\n",
        "# ヘッダー色付け\n",
        "wb = load_workbook(out)\n",
        "ws = wb['売上集計表']\n",
        "fill = PatternFill(start_color='F2F2F2', end_color='F2F2F2', fill_type='solid')\n",
        "for cell in ws[3]:\n",
        "    cell.fill = fill\n",
        "wb.save(out)"
      ],
      "metadata": {
        "colab": {
          "base_uri": "https://localhost:8080/"
        },
        "outputId": "9339cc9d-a16a-4df8-bda1-840f44e0c521",
        "id": "D7yFau4akvDe"
      },
      "execution_count": null,
      "outputs": [
        {
          "output_type": "stream",
          "name": "stdout",
          "text": [
            "     売上年        商品  金額（千円）\n",
            "0   2022        紅茶    1200\n",
            "1   2022      ハチミツ    1000\n",
            "2   2022      セッケン    1300\n",
            "3   2022        紅茶     800\n",
            "4   2022  アロマキャンドル     900\n",
            "5   2022      ハチミツ     300\n",
            "6   2022      ハチミツ     560\n",
            "7   2022    ワイングラス     850\n",
            "8   2022  アロマキャンドル     810\n",
            "9   2022        包丁     940\n",
            "10  2022        水筒    1150\n",
            "11  2023        紅茶    1200\n",
            "12  2023      ハチミツ    1000\n",
            "13  2023        水筒     250\n",
            "14  2023     コーヒー豆     860\n",
            "15  2023      セッケン    1300\n",
            "16  2023        紅茶     670\n",
            "17  2023  アロマキャンドル     900\n",
            "18  2023    ワイングラス     850\n",
            "19  2023        包丁     940\n",
            "20  2023     フライパン     670\n",
            "21  2023        水筒    1150\n",
            "               金額（千円）\n",
            "商品       売上年         \n",
            "アロマキャンドル 2022    1710\n",
            "         2023     900\n",
            "コーヒー豆    2023     860\n",
            "セッケン     2022    1300\n",
            "         2023    1300\n",
            "ハチミツ     2022    1860\n",
            "         2023    1000\n",
            "フライパン    2023     670\n",
            "ワイングラス   2022     850\n",
            "         2023     850\n",
            "包丁       2022     940\n",
            "         2023     940\n",
            "水筒       2022    1150\n",
            "         2023    1400\n",
            "紅茶       2022    2000\n",
            "         2023    1870\n"
          ]
        }
      ]
    }
  ]
}
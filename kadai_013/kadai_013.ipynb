{
  "nbformat": 4,
  "nbformat_minor": 0,
  "metadata": {
    "colab": {
      "provenance": []
    },
    "kernelspec": {
      "name": "python3",
      "display_name": "Python 3"
    },
    "language_info": {
      "name": "python"
    }
  },
  "cells": [
    {
      "cell_type": "code",
      "source": [
        "def calculate_total(price:float, consumption_tax:float) ->float:\n",
        "\n",
        "   total = price + consumption_tax\n",
        "   return total\n",
        "\n",
        "result = calculate_total(110,10)\n",
        "\n",
        "print(f\"消費税込みの金額は{result}円です。\")\n",
        "\n"
      ],
      "metadata": {
        "colab": {
          "base_uri": "https://localhost:8080/"
        },
        "id": "4SjLjMTA2MYC",
        "outputId": "315c257f-c4e3-4fab-9794-4d812b0817f7"
      },
      "execution_count": 7,
      "outputs": [
        {
          "output_type": "stream",
          "name": "stdout",
          "text": [
            "消費税込みの金額は120円です。\n"
          ]
        }
      ]
    }
  ]
}
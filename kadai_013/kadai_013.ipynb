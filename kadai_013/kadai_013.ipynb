{
  "nbformat": 4,
  "nbformat_minor": 0,
  "metadata": {
    "colab": {
      "provenance": []
    },
    "kernelspec": {
      "name": "python3",
      "display_name": "Python 3"
    },
    "language_info": {
      "name": "python"
    }
  },
  "cells": [
    {
      "cell_type": "code",
      "source": [
        "def calculate_total(price:float, tax_rate:float) ->float:\n",
        "   tax_amount = price * tax_rate / 100\n",
        "   total = price + tax_amount\n",
        "   return total\n",
        "\n",
        "result = calculate_total(110,10)\n",
        "\n",
        "print(f\"消費税込みの金額は{result}円です。\")\n",
        "\n"
      ],
      "metadata": {
        "colab": {
          "base_uri": "https://localhost:8080/"
        },
        "id": "4SjLjMTA2MYC",
        "outputId": "c00c8965-600e-4061-8c0c-3e2b6224b160"
      },
      "execution_count": 8,
      "outputs": [
        {
          "output_type": "stream",
          "name": "stdout",
          "text": [
            "消費税込みの金額は121.0円です。\n"
          ]
        }
      ]
    }
  ]
}
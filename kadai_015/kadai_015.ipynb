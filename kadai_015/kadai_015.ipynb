{
  "nbformat": 4,
  "nbformat_minor": 0,
  "metadata": {
    "colab": {
      "provenance": []
    },
    "kernelspec": {
      "name": "python3",
      "display_name": "Python 3"
    },
    "language_info": {
      "name": "python"
    }
  },
  "cells": [
    {
      "cell_type": "code",
      "source": [
        "class Human:\n",
        "  def __init__(self,name,age):\n",
        "\n",
        "   self.name = name\n",
        "   self.age=age\n",
        "\n",
        "\n",
        "  def printinfo(self):\n",
        "        print(\"名前:\", self.name)\n",
        "        print(\"年齢:\", self.age)\n",
        "\n",
        "human=Human(\"侍太郎\",\"36\")\n",
        "\n",
        "human.printinfo()\n"
      ],
      "metadata": {
        "colab": {
          "base_uri": "https://localhost:8080/"
        },
        "id": "8JB8dMjKDflt",
        "outputId": "007b3fe3-1f26-4119-f8cb-33093e732a9d"
      },
      "execution_count": 8,
      "outputs": [
        {
          "output_type": "stream",
          "name": "stdout",
          "text": [
            "名前: 侍太郎\n",
            "年齢: 36\n"
          ]
        }
      ]
    }
  ]
}
{
  "nbformat": 4,
  "nbformat_minor": 0,
  "metadata": {
    "colab": {
      "provenance": []
    },
    "kernelspec": {
      "name": "python3",
      "display_name": "Python 3"
    },
    "language_info": {
      "name": "python"
    }
  },
  "cells": [
    {
      "cell_type": "code",
      "source": [
        "class Human:\n",
        "\n",
        " def __init__(self, name, age):\n",
        "\n",
        "     self.name = name\n",
        "     self.age=age\n",
        "\n",
        " def check_adult(self):\n",
        "    if self.age>=20:\n",
        "      print(f\"{self.name}さん({self.age}歳)は大人です\")\n",
        "\n",
        "    else:\n",
        "      print(f\"{self.name}さん({self.age}歳)は大人ではありません\")\n",
        "\n",
        "human = [Human(\"田中\", 25), Human(\"佐藤\", 17), Human(\"鈴木\", 30), Human(\"山田\", 19)]\n",
        "\n",
        "\n",
        "for person in human:\n",
        "  person.check_adult()\n",
        "\n",
        "\n"
      ],
      "metadata": {
        "colab": {
          "base_uri": "https://localhost:8080/"
        },
        "id": "Dqh9tJUPC6NK",
        "outputId": "c5f1c7fc-2bcf-4808-d5b1-d38fc7457ea1"
      },
      "execution_count": 14,
      "outputs": [
        {
          "output_type": "stream",
          "name": "stdout",
          "text": [
            "田中さん(25歳)は大人です\n",
            "佐藤さん(17歳)は大人ではありません\n",
            "鈴木さん(30歳)は大人です\n",
            "山田さん(19歳)は大人ではありません\n"
          ]
        }
      ]
    }
  ]
}